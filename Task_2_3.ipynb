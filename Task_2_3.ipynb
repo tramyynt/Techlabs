{
  "nbformat": 4,
  "nbformat_minor": 0,
  "metadata": {
    "colab": {
      "name": "Task 2_3.ipynb",
      "provenance": [],
      "collapsed_sections": [],
      "mount_file_id": "13op5aDwvfiIuOXiq8lFHA3zq1BbSODmc",
      "authorship_tag": "ABX9TyPxR8ZRWtYg/FUIdSY1XXoK",
      "include_colab_link": true
    },
    "kernelspec": {
      "name": "python3",
      "display_name": "Python 3"
    },
    "language_info": {
      "name": "python"
    }
  },
  "cells": [
    {
      "cell_type": "markdown",
      "metadata": {
        "id": "view-in-github",
        "colab_type": "text"
      },
      "source": [
        "<a href=\"https://colab.research.google.com/github/tramyynt/Techlabs/blob/master/Task_2_3.ipynb\" target=\"_parent\"><img src=\"https://colab.research.google.com/assets/colab-badge.svg\" alt=\"Open In Colab\"/></a>"
      ]
    },
    {
      "cell_type": "code",
      "execution_count": null,
      "metadata": {
        "id": "VBkWkGVwoDbz"
      },
      "outputs": [],
      "source": [
        "from google.colab import drive\n",
        "drive.mount('/content/drive')"
      ]
    },
    {
      "cell_type": "code",
      "source": [
        "import pyforest\n",
        "import warnings\n",
        "warnings.filterwarnings(\"ignore\")"
      ],
      "metadata": {
        "id": "evS-deNQoXFw"
      },
      "execution_count": 84,
      "outputs": []
    },
    {
      "cell_type": "code",
      "source": [
        "df = pd.read_csv('/content/drive/MyDrive/dataset.csv')"
      ],
      "metadata": {
        "id": "5p775Uzjqitl"
      },
      "execution_count": 31,
      "outputs": []
    },
    {
      "cell_type": "code",
      "source": [
        "df.info()"
      ],
      "metadata": {
        "colab": {
          "base_uri": "https://localhost:8080/"
        },
        "id": "VHMs_JXirI2H",
        "outputId": "7688c7f5-5eb0-4792-c425-73dbd792cdc3"
      },
      "execution_count": null,
      "outputs": [
        {
          "output_type": "stream",
          "name": "stdout",
          "text": [
            "<class 'pandas.core.frame.DataFrame'>\n",
            "RangeIndex: 2633521 entries, 0 to 2633520\n",
            "Data columns (total 8 columns):\n",
            " #   Column         Dtype  \n",
            "---  ------         -----  \n",
            " 0   event_time     object \n",
            " 1   order_id       int64  \n",
            " 2   product_id     int64  \n",
            " 3   category_id    float64\n",
            " 4   category_code  object \n",
            " 5   brand          object \n",
            " 6   price          float64\n",
            " 7   user_id        float64\n",
            "dtypes: float64(3), int64(2), object(3)\n",
            "memory usage: 160.7+ MB\n"
          ]
        }
      ]
    },
    {
      "cell_type": "code",
      "source": [
        "df.head(20)"
      ],
      "metadata": {
        "colab": {
          "base_uri": "https://localhost:8080/",
          "height": 677
        },
        "id": "O3zb1iqyrP6I",
        "outputId": "646afb0a-9464-49f2-94c7-b15bf6769340"
      },
      "execution_count": 146,
      "outputs": [
        {
          "output_type": "execute_result",
          "data": {
            "text/html": [
              "\n",
              "  <div id=\"df-66c082b0-7ef7-4468-a41b-bb99f1f67c23\">\n",
              "    <div class=\"colab-df-container\">\n",
              "      <div>\n",
              "<style scoped>\n",
              "    .dataframe tbody tr th:only-of-type {\n",
              "        vertical-align: middle;\n",
              "    }\n",
              "\n",
              "    .dataframe tbody tr th {\n",
              "        vertical-align: top;\n",
              "    }\n",
              "\n",
              "    .dataframe thead th {\n",
              "        text-align: right;\n",
              "    }\n",
              "</style>\n",
              "<table border=\"1\" class=\"dataframe\">\n",
              "  <thead>\n",
              "    <tr style=\"text-align: right;\">\n",
              "      <th></th>\n",
              "      <th>event_time</th>\n",
              "      <th>order_id</th>\n",
              "      <th>product_id</th>\n",
              "      <th>category_id</th>\n",
              "      <th>category_code</th>\n",
              "      <th>brand</th>\n",
              "      <th>price</th>\n",
              "      <th>user_id</th>\n",
              "      <th>time_hours</th>\n",
              "      <th>weekday</th>\n",
              "      <th>day</th>\n",
              "    </tr>\n",
              "  </thead>\n",
              "  <tbody>\n",
              "    <tr>\n",
              "      <th>0</th>\n",
              "      <td>2020-04-24 11:50:39 UTC</td>\n",
              "      <td>2294359932054536986</td>\n",
              "      <td>1515966223509089906</td>\n",
              "      <td>2.268105e+18</td>\n",
              "      <td>electronics.tablet</td>\n",
              "      <td>samsung</td>\n",
              "      <td>162.01</td>\n",
              "      <td>1.515916e+18</td>\n",
              "      <td>11</td>\n",
              "      <td>4</td>\n",
              "      <td>Friday</td>\n",
              "    </tr>\n",
              "    <tr>\n",
              "      <th>1</th>\n",
              "      <td>2020-04-24 11:50:39 UTC</td>\n",
              "      <td>2294359932054536986</td>\n",
              "      <td>1515966223509089906</td>\n",
              "      <td>2.268105e+18</td>\n",
              "      <td>electronics.tablet</td>\n",
              "      <td>samsung</td>\n",
              "      <td>162.01</td>\n",
              "      <td>1.515916e+18</td>\n",
              "      <td>11</td>\n",
              "      <td>4</td>\n",
              "      <td>Friday</td>\n",
              "    </tr>\n",
              "    <tr>\n",
              "      <th>2</th>\n",
              "      <td>2020-04-24 14:37:43 UTC</td>\n",
              "      <td>2294444024058086220</td>\n",
              "      <td>2273948319057183658</td>\n",
              "      <td>2.268105e+18</td>\n",
              "      <td>electronics.audio.headphone</td>\n",
              "      <td>huawei</td>\n",
              "      <td>77.52</td>\n",
              "      <td>1.515916e+18</td>\n",
              "      <td>14</td>\n",
              "      <td>4</td>\n",
              "      <td>Friday</td>\n",
              "    </tr>\n",
              "    <tr>\n",
              "      <th>3</th>\n",
              "      <td>2020-04-24 14:37:43 UTC</td>\n",
              "      <td>2294444024058086220</td>\n",
              "      <td>2273948319057183658</td>\n",
              "      <td>2.268105e+18</td>\n",
              "      <td>electronics.audio.headphone</td>\n",
              "      <td>huawei</td>\n",
              "      <td>77.52</td>\n",
              "      <td>1.515916e+18</td>\n",
              "      <td>14</td>\n",
              "      <td>4</td>\n",
              "      <td>Friday</td>\n",
              "    </tr>\n",
              "    <tr>\n",
              "      <th>4</th>\n",
              "      <td>2020-04-24 19:16:21 UTC</td>\n",
              "      <td>2294584263154074236</td>\n",
              "      <td>2273948316817424439</td>\n",
              "      <td>2.268105e+18</td>\n",
              "      <td>NaN</td>\n",
              "      <td>karcher</td>\n",
              "      <td>217.57</td>\n",
              "      <td>1.515916e+18</td>\n",
              "      <td>19</td>\n",
              "      <td>4</td>\n",
              "      <td>Friday</td>\n",
              "    </tr>\n",
              "    <tr>\n",
              "      <th>5</th>\n",
              "      <td>2020-04-26 08:45:57 UTC</td>\n",
              "      <td>2295716521449619559</td>\n",
              "      <td>1515966223509261697</td>\n",
              "      <td>2.268105e+18</td>\n",
              "      <td>furniture.kitchen.table</td>\n",
              "      <td>maestro</td>\n",
              "      <td>39.33</td>\n",
              "      <td>1.515916e+18</td>\n",
              "      <td>8</td>\n",
              "      <td>6</td>\n",
              "      <td>Sunday</td>\n",
              "    </tr>\n",
              "    <tr>\n",
              "      <th>6</th>\n",
              "      <td>2020-04-26 09:33:47 UTC</td>\n",
              "      <td>2295740594749702229</td>\n",
              "      <td>1515966223509104892</td>\n",
              "      <td>2.268105e+18</td>\n",
              "      <td>electronics.smartphone</td>\n",
              "      <td>apple</td>\n",
              "      <td>1387.01</td>\n",
              "      <td>1.515916e+18</td>\n",
              "      <td>9</td>\n",
              "      <td>6</td>\n",
              "      <td>Sunday</td>\n",
              "    </tr>\n",
              "    <tr>\n",
              "      <th>7</th>\n",
              "      <td>2020-04-26 09:33:47 UTC</td>\n",
              "      <td>2295740594749702229</td>\n",
              "      <td>1515966223509104892</td>\n",
              "      <td>2.268105e+18</td>\n",
              "      <td>electronics.smartphone</td>\n",
              "      <td>apple</td>\n",
              "      <td>1387.01</td>\n",
              "      <td>1.515916e+18</td>\n",
              "      <td>9</td>\n",
              "      <td>6</td>\n",
              "      <td>Sunday</td>\n",
              "    </tr>\n",
              "    <tr>\n",
              "      <th>8</th>\n",
              "      <td>2020-04-26 09:33:47 UTC</td>\n",
              "      <td>2295740594749702229</td>\n",
              "      <td>1515966223509104892</td>\n",
              "      <td>2.268105e+18</td>\n",
              "      <td>electronics.smartphone</td>\n",
              "      <td>apple</td>\n",
              "      <td>1387.01</td>\n",
              "      <td>1.515916e+18</td>\n",
              "      <td>9</td>\n",
              "      <td>6</td>\n",
              "      <td>Sunday</td>\n",
              "    </tr>\n",
              "    <tr>\n",
              "      <th>9</th>\n",
              "      <td>2020-04-26 09:33:47 UTC</td>\n",
              "      <td>2295740594749702229</td>\n",
              "      <td>1515966223509104892</td>\n",
              "      <td>2.268105e+18</td>\n",
              "      <td>electronics.smartphone</td>\n",
              "      <td>apple</td>\n",
              "      <td>1387.01</td>\n",
              "      <td>1.515916e+18</td>\n",
              "      <td>9</td>\n",
              "      <td>6</td>\n",
              "      <td>Sunday</td>\n",
              "    </tr>\n",
              "    <tr>\n",
              "      <th>10</th>\n",
              "      <td>2020-04-26 14:55:26 UTC</td>\n",
              "      <td>2295902490203259134</td>\n",
              "      <td>2273948311742316796</td>\n",
              "      <td>2.268105e+18</td>\n",
              "      <td>appliances.kitchen.refrigerators</td>\n",
              "      <td>lg</td>\n",
              "      <td>462.94</td>\n",
              "      <td>1.515916e+18</td>\n",
              "      <td>14</td>\n",
              "      <td>6</td>\n",
              "      <td>Sunday</td>\n",
              "    </tr>\n",
              "    <tr>\n",
              "      <th>11</th>\n",
              "      <td>2020-04-26 23:35:39 UTC</td>\n",
              "      <td>2296164324487463110</td>\n",
              "      <td>1515966223509259473</td>\n",
              "      <td>2.268105e+18</td>\n",
              "      <td>appliances.personal.scales</td>\n",
              "      <td>polaris</td>\n",
              "      <td>30.07</td>\n",
              "      <td>1.515916e+18</td>\n",
              "      <td>23</td>\n",
              "      <td>6</td>\n",
              "      <td>Sunday</td>\n",
              "    </tr>\n",
              "    <tr>\n",
              "      <th>12</th>\n",
              "      <td>2020-04-27 07:24:51 UTC</td>\n",
              "      <td>2296400480990920715</td>\n",
              "      <td>2273948308663698152</td>\n",
              "      <td>2.374499e+18</td>\n",
              "      <td>electronics.video.tv</td>\n",
              "      <td>samsung</td>\n",
              "      <td>416.64</td>\n",
              "      <td>1.515916e+18</td>\n",
              "      <td>7</td>\n",
              "      <td>0</td>\n",
              "      <td>Monday</td>\n",
              "    </tr>\n",
              "    <tr>\n",
              "      <th>13</th>\n",
              "      <td>2020-04-27 14:57:22 UTC</td>\n",
              "      <td>2296628237930857206</td>\n",
              "      <td>1515966223509089660</td>\n",
              "      <td>2.268105e+18</td>\n",
              "      <td>computers.components.cpu</td>\n",
              "      <td>intel</td>\n",
              "      <td>91.41</td>\n",
              "      <td>1.515916e+18</td>\n",
              "      <td>14</td>\n",
              "      <td>0</td>\n",
              "      <td>Monday</td>\n",
              "    </tr>\n",
              "    <tr>\n",
              "      <th>14</th>\n",
              "      <td>2020-04-27 14:57:22 UTC</td>\n",
              "      <td>2296628237930857206</td>\n",
              "      <td>1515966223509089660</td>\n",
              "      <td>2.268105e+18</td>\n",
              "      <td>computers.components.cpu</td>\n",
              "      <td>intel</td>\n",
              "      <td>91.41</td>\n",
              "      <td>1.515916e+18</td>\n",
              "      <td>14</td>\n",
              "      <td>0</td>\n",
              "      <td>Monday</td>\n",
              "    </tr>\n",
              "    <tr>\n",
              "      <th>15</th>\n",
              "      <td>2020-04-27 14:57:22 UTC</td>\n",
              "      <td>2296628237930857206</td>\n",
              "      <td>1515966223509089660</td>\n",
              "      <td>2.268105e+18</td>\n",
              "      <td>computers.components.cpu</td>\n",
              "      <td>intel</td>\n",
              "      <td>91.41</td>\n",
              "      <td>1.515916e+18</td>\n",
              "      <td>14</td>\n",
              "      <td>0</td>\n",
              "      <td>Monday</td>\n",
              "    </tr>\n",
              "    <tr>\n",
              "      <th>16</th>\n",
              "      <td>2020-04-28 02:21:45 UTC</td>\n",
              "      <td>2296972701060825130</td>\n",
              "      <td>1515966223509104683</td>\n",
              "      <td>2.268105e+18</td>\n",
              "      <td>NaN</td>\n",
              "      <td>philips</td>\n",
              "      <td>23.13</td>\n",
              "      <td>1.515916e+18</td>\n",
              "      <td>2</td>\n",
              "      <td>1</td>\n",
              "      <td>Tuesday</td>\n",
              "    </tr>\n",
              "    <tr>\n",
              "      <th>17</th>\n",
              "      <td>2020-04-28 03:47:48 UTC</td>\n",
              "      <td>2297016008231092565</td>\n",
              "      <td>1515966223509089780</td>\n",
              "      <td>2.268105e+18</td>\n",
              "      <td>computers.notebook</td>\n",
              "      <td>asus</td>\n",
              "      <td>509.24</td>\n",
              "      <td>1.515916e+18</td>\n",
              "      <td>3</td>\n",
              "      <td>1</td>\n",
              "      <td>Tuesday</td>\n",
              "    </tr>\n",
              "    <tr>\n",
              "      <th>18</th>\n",
              "      <td>2020-04-28 04:25:00 UTC</td>\n",
              "      <td>2297034737199350540</td>\n",
              "      <td>1515966223509719628</td>\n",
              "      <td>2.268106e+18</td>\n",
              "      <td>NaN</td>\n",
              "      <td>NaN</td>\n",
              "      <td>6.94</td>\n",
              "      <td>1.515916e+18</td>\n",
              "      <td>4</td>\n",
              "      <td>1</td>\n",
              "      <td>Tuesday</td>\n",
              "    </tr>\n",
              "    <tr>\n",
              "      <th>19</th>\n",
              "      <td>2020-04-28 04:25:00 UTC</td>\n",
              "      <td>2297034737199350540</td>\n",
              "      <td>1515966223509719628</td>\n",
              "      <td>2.268106e+18</td>\n",
              "      <td>NaN</td>\n",
              "      <td>NaN</td>\n",
              "      <td>6.94</td>\n",
              "      <td>1.515916e+18</td>\n",
              "      <td>4</td>\n",
              "      <td>1</td>\n",
              "      <td>Tuesday</td>\n",
              "    </tr>\n",
              "  </tbody>\n",
              "</table>\n",
              "</div>\n",
              "      <button class=\"colab-df-convert\" onclick=\"convertToInteractive('df-66c082b0-7ef7-4468-a41b-bb99f1f67c23')\"\n",
              "              title=\"Convert this dataframe to an interactive table.\"\n",
              "              style=\"display:none;\">\n",
              "        \n",
              "  <svg xmlns=\"http://www.w3.org/2000/svg\" height=\"24px\"viewBox=\"0 0 24 24\"\n",
              "       width=\"24px\">\n",
              "    <path d=\"M0 0h24v24H0V0z\" fill=\"none\"/>\n",
              "    <path d=\"M18.56 5.44l.94 2.06.94-2.06 2.06-.94-2.06-.94-.94-2.06-.94 2.06-2.06.94zm-11 1L8.5 8.5l.94-2.06 2.06-.94-2.06-.94L8.5 2.5l-.94 2.06-2.06.94zm10 10l.94 2.06.94-2.06 2.06-.94-2.06-.94-.94-2.06-.94 2.06-2.06.94z\"/><path d=\"M17.41 7.96l-1.37-1.37c-.4-.4-.92-.59-1.43-.59-.52 0-1.04.2-1.43.59L10.3 9.45l-7.72 7.72c-.78.78-.78 2.05 0 2.83L4 21.41c.39.39.9.59 1.41.59.51 0 1.02-.2 1.41-.59l7.78-7.78 2.81-2.81c.8-.78.8-2.07 0-2.86zM5.41 20L4 18.59l7.72-7.72 1.47 1.35L5.41 20z\"/>\n",
              "  </svg>\n",
              "      </button>\n",
              "      \n",
              "  <style>\n",
              "    .colab-df-container {\n",
              "      display:flex;\n",
              "      flex-wrap:wrap;\n",
              "      gap: 12px;\n",
              "    }\n",
              "\n",
              "    .colab-df-convert {\n",
              "      background-color: #E8F0FE;\n",
              "      border: none;\n",
              "      border-radius: 50%;\n",
              "      cursor: pointer;\n",
              "      display: none;\n",
              "      fill: #1967D2;\n",
              "      height: 32px;\n",
              "      padding: 0 0 0 0;\n",
              "      width: 32px;\n",
              "    }\n",
              "\n",
              "    .colab-df-convert:hover {\n",
              "      background-color: #E2EBFA;\n",
              "      box-shadow: 0px 1px 2px rgba(60, 64, 67, 0.3), 0px 1px 3px 1px rgba(60, 64, 67, 0.15);\n",
              "      fill: #174EA6;\n",
              "    }\n",
              "\n",
              "    [theme=dark] .colab-df-convert {\n",
              "      background-color: #3B4455;\n",
              "      fill: #D2E3FC;\n",
              "    }\n",
              "\n",
              "    [theme=dark] .colab-df-convert:hover {\n",
              "      background-color: #434B5C;\n",
              "      box-shadow: 0px 1px 3px 1px rgba(0, 0, 0, 0.15);\n",
              "      filter: drop-shadow(0px 1px 2px rgba(0, 0, 0, 0.3));\n",
              "      fill: #FFFFFF;\n",
              "    }\n",
              "  </style>\n",
              "\n",
              "      <script>\n",
              "        const buttonEl =\n",
              "          document.querySelector('#df-66c082b0-7ef7-4468-a41b-bb99f1f67c23 button.colab-df-convert');\n",
              "        buttonEl.style.display =\n",
              "          google.colab.kernel.accessAllowed ? 'block' : 'none';\n",
              "\n",
              "        async function convertToInteractive(key) {\n",
              "          const element = document.querySelector('#df-66c082b0-7ef7-4468-a41b-bb99f1f67c23');\n",
              "          const dataTable =\n",
              "            await google.colab.kernel.invokeFunction('convertToInteractive',\n",
              "                                                     [key], {});\n",
              "          if (!dataTable) return;\n",
              "\n",
              "          const docLinkHtml = 'Like what you see? Visit the ' +\n",
              "            '<a target=\"_blank\" href=https://colab.research.google.com/notebooks/data_table.ipynb>data table notebook</a>'\n",
              "            + ' to learn more about interactive tables.';\n",
              "          element.innerHTML = '';\n",
              "          dataTable['output_type'] = 'display_data';\n",
              "          await google.colab.output.renderOutput(dataTable, element);\n",
              "          const docLink = document.createElement('div');\n",
              "          docLink.innerHTML = docLinkHtml;\n",
              "          element.appendChild(docLink);\n",
              "        }\n",
              "      </script>\n",
              "    </div>\n",
              "  </div>\n",
              "  "
            ],
            "text/plain": [
              "                 event_time             order_id  ...  weekday      day\n",
              "0   2020-04-24 11:50:39 UTC  2294359932054536986  ...        4   Friday\n",
              "1   2020-04-24 11:50:39 UTC  2294359932054536986  ...        4   Friday\n",
              "2   2020-04-24 14:37:43 UTC  2294444024058086220  ...        4   Friday\n",
              "3   2020-04-24 14:37:43 UTC  2294444024058086220  ...        4   Friday\n",
              "4   2020-04-24 19:16:21 UTC  2294584263154074236  ...        4   Friday\n",
              "5   2020-04-26 08:45:57 UTC  2295716521449619559  ...        6   Sunday\n",
              "6   2020-04-26 09:33:47 UTC  2295740594749702229  ...        6   Sunday\n",
              "7   2020-04-26 09:33:47 UTC  2295740594749702229  ...        6   Sunday\n",
              "8   2020-04-26 09:33:47 UTC  2295740594749702229  ...        6   Sunday\n",
              "9   2020-04-26 09:33:47 UTC  2295740594749702229  ...        6   Sunday\n",
              "10  2020-04-26 14:55:26 UTC  2295902490203259134  ...        6   Sunday\n",
              "11  2020-04-26 23:35:39 UTC  2296164324487463110  ...        6   Sunday\n",
              "12  2020-04-27 07:24:51 UTC  2296400480990920715  ...        0   Monday\n",
              "13  2020-04-27 14:57:22 UTC  2296628237930857206  ...        0   Monday\n",
              "14  2020-04-27 14:57:22 UTC  2296628237930857206  ...        0   Monday\n",
              "15  2020-04-27 14:57:22 UTC  2296628237930857206  ...        0   Monday\n",
              "16  2020-04-28 02:21:45 UTC  2296972701060825130  ...        1  Tuesday\n",
              "17  2020-04-28 03:47:48 UTC  2297016008231092565  ...        1  Tuesday\n",
              "18  2020-04-28 04:25:00 UTC  2297034737199350540  ...        1  Tuesday\n",
              "19  2020-04-28 04:25:00 UTC  2297034737199350540  ...        1  Tuesday\n",
              "\n",
              "[20 rows x 11 columns]"
            ]
          },
          "metadata": {},
          "execution_count": 146
        }
      ]
    },
    {
      "cell_type": "code",
      "source": [
        "df[df['brand'] =='apple']['price']"
      ],
      "metadata": {
        "colab": {
          "base_uri": "https://localhost:8080/"
        },
        "id": "Bf4Jf4j3aBbj",
        "outputId": "ae54581a-75c3-4038-b469-a2b7ef355b9d"
      },
      "execution_count": 148,
      "outputs": [
        {
          "output_type": "execute_result",
          "data": {
            "text/plain": [
              "6          1387.01\n",
              "7          1387.01\n",
              "8          1387.01\n",
              "9          1387.01\n",
              "34          203.68\n",
              "            ...   \n",
              "2633478    1006.92\n",
              "2633482     925.67\n",
              "2633510     925.67\n",
              "2633511     925.67\n",
              "2633517     418.96\n",
              "Name: price, Length: 74709, dtype: float64"
            ]
          },
          "metadata": {},
          "execution_count": 148
        }
      ]
    },
    {
      "cell_type": "code",
      "source": [
        "df['category_code'].nunique()"
      ],
      "metadata": {
        "colab": {
          "base_uri": "https://localhost:8080/"
        },
        "id": "6uiwEa0frbFH",
        "outputId": "f5244a2d-79aa-4e64-fd3e-876a1e0a6ec8"
      },
      "execution_count": null,
      "outputs": [
        {
          "output_type": "execute_result",
          "data": {
            "text/plain": [
              "510"
            ]
          },
          "metadata": {},
          "execution_count": 11
        }
      ]
    },
    {
      "cell_type": "code",
      "source": [
        "df['category_code'].unique()"
      ],
      "metadata": {
        "colab": {
          "base_uri": "https://localhost:8080/"
        },
        "id": "-X0NBlSQrsZL",
        "outputId": "30121351-084b-49fa-8af1-a942531ddcfc"
      },
      "execution_count": null,
      "outputs": [
        {
          "output_type": "execute_result",
          "data": {
            "text/plain": [
              "array(['electronics.tablet', 'electronics.audio.headphone', nan,\n",
              "       'furniture.kitchen.table', 'electronics.smartphone',\n",
              "       'appliances.kitchen.refrigerators', 'appliances.personal.scales',\n",
              "       'electronics.video.tv', 'computers.components.cpu',\n",
              "       'computers.notebook', 'computers.peripherals.monitor',\n",
              "       'computers.peripherals.printer', 'appliances.kitchen.kettle',\n",
              "       'computers.components.memory', 'electronics.clocks',\n",
              "       'country_yard.weather_station', 'appliances.kitchen.blender',\n",
              "       'accessories.bag', 'computers.peripherals.keyboard',\n",
              "       'computers.peripherals.mouse', 'appliances.iron',\n",
              "       'appliances.kitchen.mixer', 'electronics.telephone',\n",
              "       'appliances.kitchen.meat_grinder',\n",
              "       'appliances.personal.hair_cutter',\n",
              "       'appliances.environment.air_heater', 'kids.skates',\n",
              "       'appliances.kitchen.washer', 'appliances.kitchen.microwave',\n",
              "       'furniture.bedroom.pillow', 'appliances.environment.vacuum',\n",
              "       'appliances.environment.water_heater',\n",
              "       'furniture.living_room.shelving', 'computers.components.cooler',\n",
              "       'computers.peripherals.joystick', 'computers.network.router',\n",
              "       'computers.components.hdd', 'appliances.kitchen.hood',\n",
              "       'appliances.ironing_board', 'apparel.glove', 'stationery.battery',\n",
              "       'construction.tools.screw', 'furniture.bedroom.bed',\n",
              "       'stationery.cartrige', 'appliances.environment.air_conditioner',\n",
              "       'appliances.kitchen.grill', 'appliances.personal.massager',\n",
              "       'appliances.kitchen.toster', 'appliances.environment.fan',\n",
              "       'stationery.paper', 'computers.gaming',\n",
              "       'appliances.kitchen.coffee_machine',\n",
              "       'computers.peripherals.camera', 'computers.peripherals.scanner',\n",
              "       'furniture.living_room.chair', 'computers.components.power_supply',\n",
              "       'electronics.audio.microphone', 'apparel.trousers',\n",
              "       'medicine.tools.tonometer', 'appliances.kitchen.juicer',\n",
              "       'appliances.kitchen.oven', 'appliances.kitchen.dishwasher',\n",
              "       'apparel.shirt', 'furniture.kitchen.chair',\n",
              "       'appliances.sewing_machine', 'computers.desktop',\n",
              "       'furniture.living_room.cabinet', 'computers.components.videocards',\n",
              "       'appliances.kitchen.coffee_grinder', 'computers.ebooks',\n",
              "       'apparel.tshirt', 'electronics.audio.acoustic',\n",
              "       'auto.accessories.compressor', 'stationery.stapler', '0.02',\n",
              "       'computers.components.cdrw', 'appliances.kitchen.fryer',\n",
              "       'appliances.kitchen.steam_cooker', 'kids.toys',\n",
              "       'appliances.environment.climate',\n",
              "       'computers.components.motherboard', '38.17',\n",
              "       'country_yard.lawn_mower', 'furniture.living_room.sofa',\n",
              "       'sport.bicycle', 'apparel.sock', 'auto.accessories.videoregister',\n",
              "       '57.85', 'electronics.video.projector', 'electronics.camera.photo',\n",
              "       'sport.tennis', 'furniture.bathroom.bath',\n",
              "       'appliances.steam_cleaner', 'construction.tools.heater',\n",
              "       'electronics.camera.video', 'kids.carriage', 'sport.trainer',\n",
              "       'apparel.costume', 'construction.tools.drill', 'kids.bottles',\n",
              "       'furniture.universal.light', 'construction.components.faucet',\n",
              "       'country_yard.cultivator', 'electronics.calculator',\n",
              "       'electronics.audio.subwoofer', 'auto.accessories.alarm', '4.14',\n",
              "       'auto.accessories.anti_freeze', '0.51', '497.66',\n",
              "       'furniture.bedroom.blanket', 'sport.diving',\n",
              "       'computers.components.sound_card', 'kids.dolls',\n",
              "       'auto.accessories.player', 'accessories.umbrella',\n",
              "       'construction.tools.saw', 'construction.tools.welding',\n",
              "       'construction.tools.generator', 'sport.ski', 'kids.swing',\n",
              "       'construction.tools.pump', 'construction.tools.light',\n",
              "       'electronics.audio.dictaphone', '98.59', '13.87', '16.18', '57.87',\n",
              "       '3.89', '4.63', '29.63', '10.42', '8.10', '19.49', '6.94', '9.26',\n",
              "       '17.36', '3.45', '0.93', '0.35', '3.47', '23.15', '34.70', '33.54',\n",
              "       '0.97', '5.79', '2.29', '92.59', '1.74', '19.95', '11.55', '15.28',\n",
              "       '2.99', '8.59', '28.94', '0.67', '11.57', '1319.42', '0.81',\n",
              "       '69.44', '20.83', '69.42', '0.23', '31.23', '6.92', '1.37', '0.00',\n",
              "       '8.54', '30.09', '14.14', '18.29', '41.64', '1.83', '0.42', '0.76',\n",
              "       '9.24', '0.05', '2.78', '53.22', '1.39', '50.90', '13.66', '24.28',\n",
              "       '16.20', '1.62', '1.16', '148.13', '26.83', '26.62', '8.08',\n",
              "       'auto.accessories.radar', '83.33', '27.78', '2.31', '50.93',\n",
              "       '208.31', '80.76', 'kids.fmcg.diapers', '132.41', '74.07', '1.50',\n",
              "       '7.85', '6.71', '27.08', '34.72', '0.58', '20.81', '12.27',\n",
              "       '41.67', '46.30', '12.73', '13.89', '40.49', '87.94', '15.05',\n",
              "       '162.04', '14.12', '10.44', '18.52', '53.24', '122.66', '18.98',\n",
              "       '8.33', '9.93', '22.66', '0.46', '27.75', '22.43', '8.31', '39.33',\n",
              "       '120.98', '83.31', '5.76', '27.34', '740.54', '9.14', '23.13',\n",
              "       '37.04', '5.56', '143.50', '1.13', '4.61', '46.27', '0.44',\n",
              "       '13.91', '416.64', '11.32', '18.03', '266.18', '15.25', '33.33',\n",
              "       '179.27', '370.35', '601.60', '115.72', '97.20', '10.39', '245.93',\n",
              "       '196.74', '92.57', '35.39', '78.68', '300.90', '48.59', '32.38',\n",
              "       '12.94', '4.38', '7.38', '14.33', '55.53', '2.52', '75.22',\n",
              "       '109.83', '3.68', '62.49', '12.96', '35.86', '17.59', '16.67',\n",
              "       '138.87', '18.50', '578.68', '129.61', '1.60', '64.79', '37.60',\n",
              "       '270.67', '222.22', '590.25', '393.50', '105.31', '185.19',\n",
              "       '165.49', '856.23', '127.29', '0.69', '17.57', '7.41', '967.57',\n",
              "       '5.53', '0.21', '295.01', '37.01', '168.96', '234.94', '15.02',\n",
              "       '2.55', '810.16', '1110.86', '23.14', '260.40', '5.30', '67.13',\n",
              "       '509.24', '277.75', '173.42', '20.99', '68.04', '671.27', '115.74',\n",
              "       '104.17', '52.07', '6.23', '300.91', '134.26', '17.34', '56.69',\n",
              "       '30.07', '27.29', '108.77', '462.94', '261.55', '138.74', '62.48',\n",
              "       '13.63', '5.83', '555.53', '81.00', '472.02', '5.32', '350.67',\n",
              "       '8.77', '219.88', '694.42', '451.37', '23.33', '110.91', '28.91',\n",
              "       '3.91', '21.05', '21.53', '67.11', 'furniture.bathroom.toilet',\n",
              "       '114.58', '25.44', '335.63', '542.11', '145.81', '25.46', '395.81',\n",
              "       '12.71', '43.96', '104.14', '347.20', '324.05', '231.46', '97.04',\n",
              "       '19.68', '85.63', '810.17', '18.51', '765.91', '81.01', '22.20',\n",
              "       '11.67', '518.50', '787.01', '988.40', '289.33', '12.25', '128.68',\n",
              "       '532.38', '462.96', '6.48', '4094.91', '0.03', '43.50', '90.25',\n",
              "       '13.17', '36.34', '14.81', '138.89', '400.44', '270.82', '15.49',\n",
              "       '333.31', '26.16', '31.25', '21.74', '406.93', '9.47', '7.62',\n",
              "       '6.02', '3.94', '134.24', '413.02', '729.14', '39.58', '38.19',\n",
              "       '314.79', '32.41', '11.11', '286.44', '0.65', '55.54', '361.09',\n",
              "       '18.26', '486.09', '64.80', '46.29', '694.44', '555.30', '41.90',\n",
              "       'sport.snowboard', '55.56', 'country_yard.watering', '53.91',\n",
              "       '2.75', '7.18', '254.61', '3.56', '312.48', '24.05', '564.79',\n",
              "       '120.35', '212.94', '543.96', '368.03', '31.94', '92.34', '106.43',\n",
              "       '9.21', '24.31', '0.12', '47.89', '49.31', '69.43', '773.13',\n",
              "       '290.64', '50.21', '21.30', '34.00', '39.56', '20.86', '31.69',\n",
              "       '124.98', '37.94', '65.25', '1666.64', '61.10', '2312.50',\n",
              "       '412.01', '118.72', '185.16', '386.55', '36.09', '74.05', '226.25',\n",
              "       '162.01', '446.74', '456.00', '1.09', '1157.38', '14.56', '16.88',\n",
              "       '1.23', 'apparel.shoes', '73.59', '84.00', '432.85', '1435.16',\n",
              "       '384.24', '1354.14', '1215.25', '833.31', '41.41', '717.57',\n",
              "       '740.72', '26.60', '3.22', '6.69', '226.37', '592.57', '63.63',\n",
              "       '0.90', '493.03', '1620.35', '129.38', '2.06', '26.92', '1.15',\n",
              "       '1180.53', '310.16', '120.58', '499.98', '1388.87', '752.29',\n",
              "       '240.72', '71.74', '62.01', '789.33'], dtype=object)"
            ]
          },
          "metadata": {},
          "execution_count": 13
        }
      ]
    },
    {
      "cell_type": "code",
      "source": [
        "df['price'].isnull().sum()"
      ],
      "metadata": {
        "colab": {
          "base_uri": "https://localhost:8080/"
        },
        "id": "WTXwaOeEr2WK",
        "outputId": "bf001401-c8e5-42dd-f237-e3e6e9eb9784"
      },
      "execution_count": null,
      "outputs": [
        {
          "output_type": "execute_result",
          "data": {
            "text/plain": [
              "431954"
            ]
          },
          "metadata": {},
          "execution_count": 15
        }
      ]
    },
    {
      "cell_type": "code",
      "source": [
        "sns.set(rc={'figure.figsize':(20,8)})\n",
        "sns.distplot(df['price'])\n",
        "plt.show()"
      ],
      "metadata": {
        "colab": {
          "base_uri": "https://localhost:8080/",
          "height": 557
        },
        "id": "-0BUxSS0t3fW",
        "outputId": "99aa16e0-cd09-4515-f5f9-67f2d4f6a100"
      },
      "execution_count": 33,
      "outputs": [
        {
          "output_type": "stream",
          "name": "stderr",
          "text": [
            "/usr/local/lib/python3.7/dist-packages/seaborn/distributions.py:2619: FutureWarning: `distplot` is a deprecated function and will be removed in a future version. Please adapt your code to use either `displot` (a figure-level function with similar flexibility) or `histplot` (an axes-level function for histograms).\n",
            "  warnings.warn(msg, FutureWarning)\n"
          ]
        },
        {
          "output_type": "display_data",
          "data": {
            "image/png": "[encoded data removed]",
            "text/plain": [
              "<Figure size 1440x576 with 1 Axes>"
            ]
          },
          "metadata": {}
        }
      ]
    },
    {
      "cell_type": "code",
      "source": [
        "plt.figure(figsize =(20,8))\n",
        "plt.hist(data = df,x='price', bins = 50)\n",
        "plt.title('Histogram of Price')\n",
        "plt.show()"
      ],
      "metadata": {
        "colab": {
          "base_uri": "https://localhost:8080/",
          "height": 520
        },
        "id": "Cnk5rJ9du0N4",
        "outputId": "cf7b5519-a171-4a81-dfdf-41add933e898"
      },
      "execution_count": 151,
      "outputs": [
        {
          "output_type": "display_data",
          "data": {
            "image/png": "[encoded data removed]",
            "text/plain": [
              "<Figure size 1440x576 with 1 Axes>"
            ]
          },
          "metadata": {}
        }
      ]
    },
    {
      "cell_type": "code",
      "source": [
        ""
      ],
      "metadata": {
        "id": "FrEsaG4ZwCNp"
      },
      "execution_count": null,
      "outputs": []
    },
    {
      "cell_type": "markdown",
      "source": [
        "2. Generate time_hours and weekday\n",
        "\n",
        "At first, the data type of event_time should be converted to datetime.\n",
        "Next, we will extract time_hours and weekday from event_time."
      ],
      "metadata": {
        "id": "3DNwca9rwODj"
      }
    },
    {
      "cell_type": "code",
      "source": [
        "df['time_hours'] = pd.to_datetime(df['event_time'], utc = True).dt.hour"
      ],
      "metadata": {
        "id": "q-5zyAopwkby"
      },
      "execution_count": 36,
      "outputs": []
    },
    {
      "cell_type": "code",
      "source": [
        "type(df['time_hours'][1])"
      ],
      "metadata": {
        "id": "0JKAVucoxTB8",
        "colab": {
          "base_uri": "https://localhost:8080/"
        },
        "outputId": "1320e09d-030d-40dd-f5ed-59d9cb57b0a1"
      },
      "execution_count": 41,
      "outputs": [
        {
          "output_type": "execute_result",
          "data": {
            "text/plain": [
              "numpy.int64"
            ]
          },
          "metadata": {},
          "execution_count": 41
        }
      ]
    },
    {
      "cell_type": "code",
      "source": [
        "df['weekday'] = pd.to_datetime(df['event_time'], utc = True).dt.dayofweek"
      ],
      "metadata": {
        "id": "_wvI3OJw2deS"
      },
      "execution_count": 42,
      "outputs": []
    },
    {
      "cell_type": "code",
      "source": [
        "type(df['weekday'][1])"
      ],
      "metadata": {
        "colab": {
          "base_uri": "https://localhost:8080/"
        },
        "id": "1KHNhJtV26mO",
        "outputId": "96e7a7fd-4e29-4d99-f152-db94fe8e974a"
      },
      "execution_count": 48,
      "outputs": [
        {
          "output_type": "execute_result",
          "data": {
            "text/plain": [
              "numpy.int64"
            ]
          },
          "metadata": {},
          "execution_count": 48
        }
      ]
    },
    {
      "cell_type": "markdown",
      "source": [
        "3. Brand with the most sale volumns and top 5 brands comparing sales volumn"
      ],
      "metadata": {
        "id": "NB3mcC665BtW"
      }
    },
    {
      "cell_type": "code",
      "source": [
        "most_brand_sale=pd.DataFrame(df.groupby('brand').count()['order_id'].sort_values(ascending = False)).head(1)\n",
        "most_brand_sale.index"
      ],
      "metadata": {
        "colab": {
          "base_uri": "https://localhost:8080/"
        },
        "id": "XNNmAz-c5JkW",
        "outputId": "c69ebfae-9f4b-4cbd-a23c-751949de28ab"
      },
      "execution_count": 89,
      "outputs": [
        {
          "output_type": "execute_result",
          "data": {
            "text/plain": [
              "Index(['samsung'], dtype='object', name='brand')"
            ]
          },
          "metadata": {},
          "execution_count": 89
        }
      ]
    },
    {
      "cell_type": "markdown",
      "source": [
        "The Brand with the most sales volumn is Samsung"
      ],
      "metadata": {
        "id": "fAltrH1iBHuu"
      }
    },
    {
      "cell_type": "code",
      "source": [
        "#Plot top 5 brands\n",
        "plt.figure(figsize=(20,10))\n",
        "sns.set(font_scale = 2)\n",
        "top_brand = pd.DataFrame(df.groupby('brand').count()['order_id'].sort_values(ascending = False)).head(5)\n",
        "sns.barplot(data = top_brand, x = top_brand.index, y = top_brand['order_id'], palette ='rocket', edgecolor ='black')\n",
        "plt.xlabel('Brand')\n",
        "plt.ylabel('Sales volumn')\n",
        "plt.yticks(fontsize = 16)\n",
        "plt.title('Top 5 brands with most sales volumn')"
      ],
      "metadata": {
        "colab": {
          "base_uri": "https://localhost:8080/",
          "height": 674
        },
        "id": "4qw0ldPJ5fCs",
        "outputId": "c967a72d-8232-4c9c-8bbb-15ce7bc6cf9a"
      },
      "execution_count": 90,
      "outputs": [
        {
          "output_type": "execute_result",
          "data": {
            "text/plain": [
              "Text(0.5, 1.0, 'Top 5 brands with most sales volumn')"
            ]
          },
          "metadata": {},
          "execution_count": 90
        },
        {
          "output_type": "display_data",
          "data": {
            "image/png": "[encoded data removed]",
            "text/plain": [
              "<Figure size 1440x720 with 1 Axes>"
            ]
          },
          "metadata": {}
        }
      ]
    },
    {
      "cell_type": "markdown",
      "source": [
        "As observed, Samsung is the leading brand with the highest sales volumn, approximately tripples the second highest one."
      ],
      "metadata": {
        "id": "InLdo2u4ApNE"
      }
    },
    {
      "cell_type": "markdown",
      "source": [
        "4. Category with highest average price"
      ],
      "metadata": {
        "id": "pbj_PjZQBnGH"
      }
    },
    {
      "cell_type": "code",
      "source": [
        "cat = df.groupby('brand').mean()['price'].sort_values(ascending = False).head(1)"
      ],
      "metadata": {
        "id": "H8P49_1uBvQf"
      },
      "execution_count": 103,
      "outputs": []
    },
    {
      "cell_type": "code",
      "source": [
        "cat"
      ],
      "metadata": {
        "colab": {
          "base_uri": "https://localhost:8080/"
        },
        "id": "XXX_1kXmDCgz",
        "outputId": "5b5bacb8-8665-4038-f1c0-d1880ca7b904"
      },
      "execution_count": 104,
      "outputs": [
        {
          "output_type": "execute_result",
          "data": {
            "text/plain": [
              "brand\n",
              "technogym    3515.116\n",
              "Name: price, dtype: float64"
            ]
          },
          "metadata": {},
          "execution_count": 104
        }
      ]
    },
    {
      "cell_type": "markdown",
      "source": [
        "The Category with highest average price is Technogym."
      ],
      "metadata": {
        "id": "_UMcxIOWEJO6"
      }
    },
    {
      "cell_type": "markdown",
      "source": [
        "5. The brand and category had the most sales of price under 20 currency units"
      ],
      "metadata": {
        "id": "Y5bi6MzwEaRa"
      }
    },
    {
      "cell_type": "markdown",
      "source": [
        "In the scope of this exercise, I skip the matter of NaN values."
      ],
      "metadata": {
        "id": "WcAnVzlhElM-"
      }
    },
    {
      "cell_type": "code",
      "source": [
        "#New dataframe with price <20\n",
        "df_20 = df[df['price']<20]"
      ],
      "metadata": {
        "id": "-Rrb6FE6EhMv"
      },
      "execution_count": 109,
      "outputs": []
    },
    {
      "cell_type": "code",
      "source": [
        "df_20['brand'].value_counts().to_frame().reset_index().head(1)"
      ],
      "metadata": {
        "colab": {
          "base_uri": "https://localhost:8080/",
          "height": 81
        },
        "id": "CWB04uHdE-kE",
        "outputId": "22425d1c-526b-467a-dae8-8c466a51969c"
      },
      "execution_count": 115,
      "outputs": [
        {
          "output_type": "execute_result",
          "data": {
            "text/html": [
              "\n",
              "  <div id=\"df-55c04d7e-288a-4209-bc93-83dfdf917ff6\">\n",
              "    <div class=\"colab-df-container\">\n",
              "      <div>\n",
              "<style scoped>\n",
              "    .dataframe tbody tr th:only-of-type {\n",
              "        vertical-align: middle;\n",
              "    }\n",
              "\n",
              "    .dataframe tbody tr th {\n",
              "        vertical-align: top;\n",
              "    }\n",
              "\n",
              "    .dataframe thead th {\n",
              "        text-align: right;\n",
              "    }\n",
              "</style>\n",
              "<table border=\"1\" class=\"dataframe\">\n",
              "  <thead>\n",
              "    <tr style=\"text-align: right;\">\n",
              "      <th></th>\n",
              "      <th>index</th>\n",
              "      <th>brand</th>\n",
              "    </tr>\n",
              "  </thead>\n",
              "  <tbody>\n",
              "    <tr>\n",
              "      <th>0</th>\n",
              "      <td>ava</td>\n",
              "      <td>59979</td>\n",
              "    </tr>\n",
              "  </tbody>\n",
              "</table>\n",
              "</div>\n",
              "      <button class=\"colab-df-convert\" onclick=\"convertToInteractive('df-55c04d7e-288a-4209-bc93-83dfdf917ff6')\"\n",
              "              title=\"Convert this dataframe to an interactive table.\"\n",
              "              style=\"display:none;\">\n",
              "        \n",
              "  <svg xmlns=\"http://www.w3.org/2000/svg\" height=\"24px\"viewBox=\"0 0 24 24\"\n",
              "       width=\"24px\">\n",
              "    <path d=\"M0 0h24v24H0V0z\" fill=\"none\"/>\n",
              "    <path d=\"M18.56 5.44l.94 2.06.94-2.06 2.06-.94-2.06-.94-.94-2.06-.94 2.06-2.06.94zm-11 1L8.5 8.5l.94-2.06 2.06-.94-2.06-.94L8.5 2.5l-.94 2.06-2.06.94zm10 10l.94 2.06.94-2.06 2.06-.94-2.06-.94-.94-2.06-.94 2.06-2.06.94z\"/><path d=\"M17.41 7.96l-1.37-1.37c-.4-.4-.92-.59-1.43-.59-.52 0-1.04.2-1.43.59L10.3 9.45l-7.72 7.72c-.78.78-.78 2.05 0 2.83L4 21.41c.39.39.9.59 1.41.59.51 0 1.02-.2 1.41-.59l7.78-7.78 2.81-2.81c.8-.78.8-2.07 0-2.86zM5.41 20L4 18.59l7.72-7.72 1.47 1.35L5.41 20z\"/>\n",
              "  </svg>\n",
              "      </button>\n",
              "      \n",
              "  <style>\n",
              "    .colab-df-container {\n",
              "      display:flex;\n",
              "      flex-wrap:wrap;\n",
              "      gap: 12px;\n",
              "    }\n",
              "\n",
              "    .colab-df-convert {\n",
              "      background-color: #E8F0FE;\n",
              "      border: none;\n",
              "      border-radius: 50%;\n",
              "      cursor: pointer;\n",
              "      display: none;\n",
              "      fill: #1967D2;\n",
              "      height: 32px;\n",
              "      padding: 0 0 0 0;\n",
              "      width: 32px;\n",
              "    }\n",
              "\n",
              "    .colab-df-convert:hover {\n",
              "      background-color: #E2EBFA;\n",
              "      box-shadow: 0px 1px 2px rgba(60, 64, 67, 0.3), 0px 1px 3px 1px rgba(60, 64, 67, 0.15);\n",
              "      fill: #174EA6;\n",
              "    }\n",
              "\n",
              "    [theme=dark] .colab-df-convert {\n",
              "      background-color: #3B4455;\n",
              "      fill: #D2E3FC;\n",
              "    }\n",
              "\n",
              "    [theme=dark] .colab-df-convert:hover {\n",
              "      background-color: #434B5C;\n",
              "      box-shadow: 0px 1px 3px 1px rgba(0, 0, 0, 0.15);\n",
              "      filter: drop-shadow(0px 1px 2px rgba(0, 0, 0, 0.3));\n",
              "      fill: #FFFFFF;\n",
              "    }\n",
              "  </style>\n",
              "\n",
              "      <script>\n",
              "        const buttonEl =\n",
              "          document.querySelector('#df-55c04d7e-288a-4209-bc93-83dfdf917ff6 button.colab-df-convert');\n",
              "        buttonEl.style.display =\n",
              "          google.colab.kernel.accessAllowed ? 'block' : 'none';\n",
              "\n",
              "        async function convertToInteractive(key) {\n",
              "          const element = document.querySelector('#df-55c04d7e-288a-4209-bc93-83dfdf917ff6');\n",
              "          const dataTable =\n",
              "            await google.colab.kernel.invokeFunction('convertToInteractive',\n",
              "                                                     [key], {});\n",
              "          if (!dataTable) return;\n",
              "\n",
              "          const docLinkHtml = 'Like what you see? Visit the ' +\n",
              "            '<a target=\"_blank\" href=https://colab.research.google.com/notebooks/data_table.ipynb>data table notebook</a>'\n",
              "            + ' to learn more about interactive tables.';\n",
              "          element.innerHTML = '';\n",
              "          dataTable['output_type'] = 'display_data';\n",
              "          await google.colab.output.renderOutput(dataTable, element);\n",
              "          const docLink = document.createElement('div');\n",
              "          docLink.innerHTML = docLinkHtml;\n",
              "          element.appendChild(docLink);\n",
              "        }\n",
              "      </script>\n",
              "    </div>\n",
              "  </div>\n",
              "  "
            ],
            "text/plain": [
              "  index  brand\n",
              "0   ava  59979"
            ]
          },
          "metadata": {},
          "execution_count": 115
        }
      ]
    },
    {
      "cell_type": "code",
      "source": [
        "df_20['category_code'].value_counts().to_frame().reset_index().head(1)"
      ],
      "metadata": {
        "colab": {
          "base_uri": "https://localhost:8080/",
          "height": 81
        },
        "id": "DK8DYFinE_ka",
        "outputId": "1572ed97-da39-4394-ede4-ec4d35b51652"
      },
      "execution_count": 116,
      "outputs": [
        {
          "output_type": "execute_result",
          "data": {
            "text/html": [
              "\n",
              "  <div id=\"df-e4f85887-2635-4a4a-a0cf-51d05f837949\">\n",
              "    <div class=\"colab-df-container\">\n",
              "      <div>\n",
              "<style scoped>\n",
              "    .dataframe tbody tr th:only-of-type {\n",
              "        vertical-align: middle;\n",
              "    }\n",
              "\n",
              "    .dataframe tbody tr th {\n",
              "        vertical-align: top;\n",
              "    }\n",
              "\n",
              "    .dataframe thead th {\n",
              "        text-align: right;\n",
              "    }\n",
              "</style>\n",
              "<table border=\"1\" class=\"dataframe\">\n",
              "  <thead>\n",
              "    <tr style=\"text-align: right;\">\n",
              "      <th></th>\n",
              "      <th>index</th>\n",
              "      <th>category_code</th>\n",
              "    </tr>\n",
              "  </thead>\n",
              "  <tbody>\n",
              "    <tr>\n",
              "      <th>0</th>\n",
              "      <td>computers.peripherals.mouse</td>\n",
              "      <td>34608</td>\n",
              "    </tr>\n",
              "  </tbody>\n",
              "</table>\n",
              "</div>\n",
              "      <button class=\"colab-df-convert\" onclick=\"convertToInteractive('df-e4f85887-2635-4a4a-a0cf-51d05f837949')\"\n",
              "              title=\"Convert this dataframe to an interactive table.\"\n",
              "              style=\"display:none;\">\n",
              "        \n",
              "  <svg xmlns=\"http://www.w3.org/2000/svg\" height=\"24px\"viewBox=\"0 0 24 24\"\n",
              "       width=\"24px\">\n",
              "    <path d=\"M0 0h24v24H0V0z\" fill=\"none\"/>\n",
              "    <path d=\"M18.56 5.44l.94 2.06.94-2.06 2.06-.94-2.06-.94-.94-2.06-.94 2.06-2.06.94zm-11 1L8.5 8.5l.94-2.06 2.06-.94-2.06-.94L8.5 2.5l-.94 2.06-2.06.94zm10 10l.94 2.06.94-2.06 2.06-.94-2.06-.94-.94-2.06-.94 2.06-2.06.94z\"/><path d=\"M17.41 7.96l-1.37-1.37c-.4-.4-.92-.59-1.43-.59-.52 0-1.04.2-1.43.59L10.3 9.45l-7.72 7.72c-.78.78-.78 2.05 0 2.83L4 21.41c.39.39.9.59 1.41.59.51 0 1.02-.2 1.41-.59l7.78-7.78 2.81-2.81c.8-.78.8-2.07 0-2.86zM5.41 20L4 18.59l7.72-7.72 1.47 1.35L5.41 20z\"/>\n",
              "  </svg>\n",
              "      </button>\n",
              "      \n",
              "  <style>\n",
              "    .colab-df-container {\n",
              "      display:flex;\n",
              "      flex-wrap:wrap;\n",
              "      gap: 12px;\n",
              "    }\n",
              "\n",
              "    .colab-df-convert {\n",
              "      background-color: #E8F0FE;\n",
              "      border: none;\n",
              "      border-radius: 50%;\n",
              "      cursor: pointer;\n",
              "      display: none;\n",
              "      fill: #1967D2;\n",
              "      height: 32px;\n",
              "      padding: 0 0 0 0;\n",
              "      width: 32px;\n",
              "    }\n",
              "\n",
              "    .colab-df-convert:hover {\n",
              "      background-color: #E2EBFA;\n",
              "      box-shadow: 0px 1px 2px rgba(60, 64, 67, 0.3), 0px 1px 3px 1px rgba(60, 64, 67, 0.15);\n",
              "      fill: #174EA6;\n",
              "    }\n",
              "\n",
              "    [theme=dark] .colab-df-convert {\n",
              "      background-color: #3B4455;\n",
              "      fill: #D2E3FC;\n",
              "    }\n",
              "\n",
              "    [theme=dark] .colab-df-convert:hover {\n",
              "      background-color: #434B5C;\n",
              "      box-shadow: 0px 1px 3px 1px rgba(0, 0, 0, 0.15);\n",
              "      filter: drop-shadow(0px 1px 2px rgba(0, 0, 0, 0.3));\n",
              "      fill: #FFFFFF;\n",
              "    }\n",
              "  </style>\n",
              "\n",
              "      <script>\n",
              "        const buttonEl =\n",
              "          document.querySelector('#df-e4f85887-2635-4a4a-a0cf-51d05f837949 button.colab-df-convert');\n",
              "        buttonEl.style.display =\n",
              "          google.colab.kernel.accessAllowed ? 'block' : 'none';\n",
              "\n",
              "        async function convertToInteractive(key) {\n",
              "          const element = document.querySelector('#df-e4f85887-2635-4a4a-a0cf-51d05f837949');\n",
              "          const dataTable =\n",
              "            await google.colab.kernel.invokeFunction('convertToInteractive',\n",
              "                                                     [key], {});\n",
              "          if (!dataTable) return;\n",
              "\n",
              "          const docLinkHtml = 'Like what you see? Visit the ' +\n",
              "            '<a target=\"_blank\" href=https://colab.research.google.com/notebooks/data_table.ipynb>data table notebook</a>'\n",
              "            + ' to learn more about interactive tables.';\n",
              "          element.innerHTML = '';\n",
              "          dataTable['output_type'] = 'display_data';\n",
              "          await google.colab.output.renderOutput(dataTable, element);\n",
              "          const docLink = document.createElement('div');\n",
              "          docLink.innerHTML = docLinkHtml;\n",
              "          element.appendChild(docLink);\n",
              "        }\n",
              "      </script>\n",
              "    </div>\n",
              "  </div>\n",
              "  "
            ],
            "text/plain": [
              "                         index  category_code\n",
              "0  computers.peripherals.mouse          34608"
            ]
          },
          "metadata": {},
          "execution_count": 116
        }
      ]
    },
    {
      "cell_type": "code",
      "source": [
        "df_20[['category_code','brand']].value_counts().to_frame().reset_index().head(1)"
      ],
      "metadata": {
        "colab": {
          "base_uri": "https://localhost:8080/",
          "height": 81
        },
        "id": "p2Ji0p5iGf4S",
        "outputId": "429d5ebb-5d2c-4ca9-8d5d-b378663758be"
      },
      "execution_count": 117,
      "outputs": [
        {
          "output_type": "execute_result",
          "data": {
            "text/html": [
              "\n",
              "  <div id=\"df-4d1b3c06-89ab-4e76-9409-51f904a777b2\">\n",
              "    <div class=\"colab-df-container\">\n",
              "      <div>\n",
              "<style scoped>\n",
              "    .dataframe tbody tr th:only-of-type {\n",
              "        vertical-align: middle;\n",
              "    }\n",
              "\n",
              "    .dataframe tbody tr th {\n",
              "        vertical-align: top;\n",
              "    }\n",
              "\n",
              "    .dataframe thead th {\n",
              "        text-align: right;\n",
              "    }\n",
              "</style>\n",
              "<table border=\"1\" class=\"dataframe\">\n",
              "  <thead>\n",
              "    <tr style=\"text-align: right;\">\n",
              "      <th></th>\n",
              "      <th>category_code</th>\n",
              "      <th>brand</th>\n",
              "      <th>0</th>\n",
              "    </tr>\n",
              "  </thead>\n",
              "  <tbody>\n",
              "    <tr>\n",
              "      <th>0</th>\n",
              "      <td>stationery.battery</td>\n",
              "      <td>camelion</td>\n",
              "      <td>14154</td>\n",
              "    </tr>\n",
              "  </tbody>\n",
              "</table>\n",
              "</div>\n",
              "      <button class=\"colab-df-convert\" onclick=\"convertToInteractive('df-4d1b3c06-89ab-4e76-9409-51f904a777b2')\"\n",
              "              title=\"Convert this dataframe to an interactive table.\"\n",
              "              style=\"display:none;\">\n",
              "        \n",
              "  <svg xmlns=\"http://www.w3.org/2000/svg\" height=\"24px\"viewBox=\"0 0 24 24\"\n",
              "       width=\"24px\">\n",
              "    <path d=\"M0 0h24v24H0V0z\" fill=\"none\"/>\n",
              "    <path d=\"M18.56 5.44l.94 2.06.94-2.06 2.06-.94-2.06-.94-.94-2.06-.94 2.06-2.06.94zm-11 1L8.5 8.5l.94-2.06 2.06-.94-2.06-.94L8.5 2.5l-.94 2.06-2.06.94zm10 10l.94 2.06.94-2.06 2.06-.94-2.06-.94-.94-2.06-.94 2.06-2.06.94z\"/><path d=\"M17.41 7.96l-1.37-1.37c-.4-.4-.92-.59-1.43-.59-.52 0-1.04.2-1.43.59L10.3 9.45l-7.72 7.72c-.78.78-.78 2.05 0 2.83L4 21.41c.39.39.9.59 1.41.59.51 0 1.02-.2 1.41-.59l7.78-7.78 2.81-2.81c.8-.78.8-2.07 0-2.86zM5.41 20L4 18.59l7.72-7.72 1.47 1.35L5.41 20z\"/>\n",
              "  </svg>\n",
              "      </button>\n",
              "      \n",
              "  <style>\n",
              "    .colab-df-container {\n",
              "      display:flex;\n",
              "      flex-wrap:wrap;\n",
              "      gap: 12px;\n",
              "    }\n",
              "\n",
              "    .colab-df-convert {\n",
              "      background-color: #E8F0FE;\n",
              "      border: none;\n",
              "      border-radius: 50%;\n",
              "      cursor: pointer;\n",
              "      display: none;\n",
              "      fill: #1967D2;\n",
              "      height: 32px;\n",
              "      padding: 0 0 0 0;\n",
              "      width: 32px;\n",
              "    }\n",
              "\n",
              "    .colab-df-convert:hover {\n",
              "      background-color: #E2EBFA;\n",
              "      box-shadow: 0px 1px 2px rgba(60, 64, 67, 0.3), 0px 1px 3px 1px rgba(60, 64, 67, 0.15);\n",
              "      fill: #174EA6;\n",
              "    }\n",
              "\n",
              "    [theme=dark] .colab-df-convert {\n",
              "      background-color: #3B4455;\n",
              "      fill: #D2E3FC;\n",
              "    }\n",
              "\n",
              "    [theme=dark] .colab-df-convert:hover {\n",
              "      background-color: #434B5C;\n",
              "      box-shadow: 0px 1px 3px 1px rgba(0, 0, 0, 0.15);\n",
              "      filter: drop-shadow(0px 1px 2px rgba(0, 0, 0, 0.3));\n",
              "      fill: #FFFFFF;\n",
              "    }\n",
              "  </style>\n",
              "\n",
              "      <script>\n",
              "        const buttonEl =\n",
              "          document.querySelector('#df-4d1b3c06-89ab-4e76-9409-51f904a777b2 button.colab-df-convert');\n",
              "        buttonEl.style.display =\n",
              "          google.colab.kernel.accessAllowed ? 'block' : 'none';\n",
              "\n",
              "        async function convertToInteractive(key) {\n",
              "          const element = document.querySelector('#df-4d1b3c06-89ab-4e76-9409-51f904a777b2');\n",
              "          const dataTable =\n",
              "            await google.colab.kernel.invokeFunction('convertToInteractive',\n",
              "                                                     [key], {});\n",
              "          if (!dataTable) return;\n",
              "\n",
              "          const docLinkHtml = 'Like what you see? Visit the ' +\n",
              "            '<a target=\"_blank\" href=https://colab.research.google.com/notebooks/data_table.ipynb>data table notebook</a>'\n",
              "            + ' to learn more about interactive tables.';\n",
              "          element.innerHTML = '';\n",
              "          dataTable['output_type'] = 'display_data';\n",
              "          await google.colab.output.renderOutput(dataTable, element);\n",
              "          const docLink = document.createElement('div');\n",
              "          docLink.innerHTML = docLinkHtml;\n",
              "          element.appendChild(docLink);\n",
              "        }\n",
              "      </script>\n",
              "    </div>\n",
              "  </div>\n",
              "  "
            ],
            "text/plain": [
              "        category_code     brand      0\n",
              "0  stationery.battery  camelion  14154"
            ]
          },
          "metadata": {},
          "execution_count": 117
        }
      ]
    },
    {
      "cell_type": "markdown",
      "source": [
        "The brand and category has the most sales is camelion, category of stationery."
      ],
      "metadata": {
        "id": "OYtbvgzRHAbd"
      }
    },
    {
      "cell_type": "markdown",
      "source": [
        "6. Distribution of sales volumn over weekday"
      ],
      "metadata": {
        "id": "9juVG80WHSrH"
      }
    },
    {
      "cell_type": "code",
      "source": [
        "df['day'] = order_data['order_date'].dt.day_name()"
      ],
      "metadata": {
        "id": "09LandlfH8G-"
      },
      "execution_count": null,
      "outputs": []
    },
    {
      "cell_type": "code",
      "source": [
        "plt.figure(figsize=(20,10))\n",
        "sns.set(font_scale = 2)\n",
        "df.groupby('weekday').count()['order_id'].plot(kind='bar',color='salmon',edgecolor='k')\n",
        "plt.xlabel('Day of Week')\n",
        "plt.ylabel('Sales volumn')\n",
        "plt.xticks(rotation=360)\n",
        "plt.title('Distribution of sales volumn over weekday')\n",
        "plt.show()"
      ],
      "metadata": {
        "colab": {
          "base_uri": "https://localhost:8080/",
          "height": 657
        },
        "id": "1_fMeFOgHdFQ",
        "outputId": "6439fc96-cf51-4642-9cc4-484e0e82761f"
      },
      "execution_count": 135,
      "outputs": [
        {
          "output_type": "display_data",
          "data": {
            "image/png": "[encoded data removed]",
            "text/plain": [
              "<Figure size 1440x720 with 1 Axes>"
            ]
          },
          "metadata": {}
        }
      ]
    },
    {
      "cell_type": "code",
      "source": [
        "#create new column with day_name\n",
        "df['day'] = pd.to_datetime(df['event_time'], utc = True).dt.day_name()"
      ],
      "metadata": {
        "id": "zSk78wPaHxch"
      },
      "execution_count": 126,
      "outputs": []
    },
    {
      "cell_type": "code",
      "source": [
        "cats = [ 'Monday', 'Tuesday', 'Wednesday', 'Thursday', 'Friday', 'Saturday', 'Sunday']\n",
        "sns.set(font_scale = 2)\n",
        "df.groupby('day').count()['order_id'].reindex(cats).plot(kind='bar',color='salmon',edgecolor='k')\n",
        "plt.xlabel('Day of Week')\n",
        "plt.ylabel('Sales volumn')\n",
        "plt.xticks(rotation=360)\n",
        "plt.show()"
      ],
      "metadata": {
        "colab": {
          "base_uri": "https://localhost:8080/",
          "height": 523
        },
        "id": "WEOsjLMzH1wz",
        "outputId": "5bf0011d-cdd1-4029-88d3-7c0522852624"
      },
      "execution_count": 138,
      "outputs": [
        {
          "output_type": "display_data",
          "data": {
            "image/png": "[encoded data removed]",
            "text/plain": [
              "<Figure size 1440x576 with 1 Axes>"
            ]
          },
          "metadata": {}
        }
      ]
    },
    {
      "cell_type": "code",
      "source": [
        ""
      ],
      "metadata": {
        "id": "l7cz29FhKY66"
      },
      "execution_count": null,
      "outputs": []
    },
    {
      "cell_type": "markdown",
      "source": [
        "### Task 3"
      ],
      "metadata": {
        "id": "N5b9prmaPfu0"
      }
    },
    {
      "cell_type": "code",
      "source": [
        "#cost of sales volumn\n",
        "def totalCost(x, y):\n",
        "  df_xy = df[df['category_code']==x]\n",
        "  df_xy['year'] = pd.to_datetime(df_xy['event_time'], utc = True).dt.year\n",
        "  df_xy =df_xy[df_xy['year']==y]\n",
        "  sum = df_xy['price'].sum()\n",
        "  return sum"
      ],
      "metadata": {
        "id": "C-fNHyBKPhbO"
      },
      "execution_count": 143,
      "outputs": []
    },
    {
      "cell_type": "code",
      "source": [
        "totalCost('electronics.tablet', 2020)"
      ],
      "metadata": {
        "colab": {
          "base_uri": "https://localhost:8080/"
        },
        "id": "AP_m5EdUR1hT",
        "outputId": "ecbcd8db-ec23-416f-edb9-7fbaeccc5361"
      },
      "execution_count": 144,
      "outputs": [
        {
          "output_type": "execute_result",
          "data": {
            "text/plain": [
              "5386653.259999999"
            ]
          },
          "metadata": {},
          "execution_count": 144
        }
      ]
    },
    {
      "cell_type": "code",
      "source": [
        "#function to calculate the probability for the purchase of an item of brand X to cost more than Y currency units\n",
        "def prob(x,y):\n",
        "  count_xy = df[(df['brand']==x)& (df['price']>y)].count()['price']\n",
        "  count_x = df[df['brand']==x].count()['price']\n",
        "  prob = count_xy/count_x\n",
        "  return prob"
      ],
      "metadata": {
        "id": "SPolBvvKSIAy"
      },
      "execution_count": 156,
      "outputs": []
    },
    {
      "cell_type": "code",
      "source": [
        "prob('samsung',20)"
      ],
      "metadata": {
        "colab": {
          "base_uri": "https://localhost:8080/"
        },
        "id": "s_Ltj8U6dsBh",
        "outputId": "b1487545-0038-4a90-85f9-84dec9f6b0c9"
      },
      "execution_count": 157,
      "outputs": [
        {
          "output_type": "execute_result",
          "data": {
            "text/plain": [
              "0.9415732403156065"
            ]
          },
          "metadata": {},
          "execution_count": 157
        }
      ]
    },
    {
      "cell_type": "code",
      "source": [
        ""
      ],
      "metadata": {
        "id": "erO3wKVaer1v"
      },
      "execution_count": null,
      "outputs": []
    }
  ]
}